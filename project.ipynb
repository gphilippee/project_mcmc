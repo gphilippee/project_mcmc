{
 "cells": [
  {
   "cell_type": "code",
   "execution_count": null,
   "outputs": [],
   "source": [
    "import particles\n",
    "import matplotlib.pyplot as plt\n",
    "\n",
    "%matplotlib inline\n",
    "import pandas as pd\n",
    "import numpy as np\n",
    "import math\n",
    "\n",
    "import particles\n",
    "from particles import distributions as dists\n",
    "from particles import state_space_models as ssm\n",
    "from particles import mcmc\n",
    "from particles import smc_samplers as ssp\n",
    "from particles.collectors import Moments"
   ],
   "metadata": {
    "collapsed": false
   }
  },
  {
   "cell_type": "markdown",
   "source": [
    "# Read data"
   ],
   "metadata": {
    "collapsed": false
   }
  },
  {
   "cell_type": "code",
   "execution_count": null,
   "outputs": [],
   "source": [
    "# read the datafile\n",
    "data = pd.read_csv(\"data.csv\")\n",
    "\n",
    "# pull out the relevant columns as np arrays\n",
    "price = np.array(data.sp500_price)\n",
    "zero_risk = np.array(data.zr_yield)\n",
    "div_yield = np.array(data.sp500_yield)\n",
    "\n",
    "# returns is log of daily price increase\n",
    "returns = np.log(price[1:] / price[:-1])\n",
    "# need to normalize these from yearly to daily rate\n",
    "# but, the sp500 is only open on weekdays\n",
    "# and there are about 252 weekdays in a year\n",
    "r = np.log(zero_risk[:-1]) / 252\n",
    "delta = np.log(div_yield[:-1]) / 252"
   ],
   "metadata": {
    "collapsed": false
   }
  },
  {
   "cell_type": "markdown",
   "source": [
    "# Parameters"
   ],
   "metadata": {
    "collapsed": false
   }
  },
  {
   "cell_type": "code",
   "execution_count": null,
   "outputs": [],
   "source": [
    "# Parameters for SV, SVJR, SVJV, SVCJ models\n",
    "\n",
    "# speed of mean reversion\n",
    "kappa = None\n",
    "# unconditional mean variance\n",
    "theta = None\n",
    "# variance of variance\n",
    "sigma = None\n",
    "# corr between Brownian motions\n",
    "rho = None\n",
    "# diffusive equity risk premium (linear in Vt)\n",
    "eta_s = None\n",
    "# diffusive variance risk premium\n",
    "eta_v = None\n",
    "\n",
    "# jump intensity for Poisson process\n",
    "lbda = None\n",
    "# mean of the return jump size\n",
    "mu_s = None\n",
    "# standard deviation of the return jump size\n",
    "sigma_s = None\n",
    "# mean jump sizes of return\n",
    "eta_J_s = None\n",
    "# params of Exp()\n",
    "mu_v = None\n",
    "# mean jump sizes of variance\n",
    "eta_J_v = None\n",
    "# correlation\n",
    "rho_J = None\n",
    "#\n",
    "sigma_c = None\n",
    "\n",
    "# Others\n",
    "\n",
    "# risk-free rate\n",
    "rt = None\n",
    "# dividend yield\n",
    "delta_t = None\n",
    "# index level\n",
    "St = None"
   ],
   "metadata": {
    "collapsed": false
   }
  },
  {
   "cell_type": "code",
   "execution_count": null,
   "outputs": [],
   "source": [
    "default_params = {\n",
    "    \"kappa\": 1.0,\n",
    "    \"theta\": 0.0,\n",
    "    \"sigma\": 1.0,\n",
    "    \"rho\": -1.0,\n",
    "    \"eta_s\": 1.0,\n",
    "}\n",
    "\n",
    "class HestonVol(ssm.StateSpaceModel):\n",
    "    \"\"\"\n",
    "    SV Model of Heston\n",
    "    \"\"\"\n",
    "\n",
    "    def __init__(self, *args, **kwargs):\n",
    "        super().__init__(*args, **kwargs)\n",
    "\n",
    "    def PX0(self):\n",
    "        V_prev_dist = dists.Dirac(loc=self.theta)\n",
    "        W = dists.Normal()\n",
    "\n",
    "        return dists.IndepProd(V_prev_dist, W)\n",
    "\n",
    "    def PX(self, t, xp): # Distribution of X_t given X_{t-1}=xp (p=past)\n",
    "        # the hidden state is NOT (V_t, w_t, B_t)!\n",
    "        # rather, it is           (V_{t-1}, ...)\n",
    "        V_prev, W_prev = xp.T\n",
    "\n",
    "        # Compute V_{t-1}\n",
    "        V = (\n",
    "            V_prev\n",
    "            + self.kappa * (self.theta - V_prev)\n",
    "            + self.sigma * np.sqrt(V_prev) * W_prev\n",
    "        )\n",
    "        # keep it above zero\n",
    "        # if 2 kappa theta > sigma^2, then the *continous* process stays positive.\n",
    "        # but the discretized process can still end up negative.\n",
    "        V = np.maximum(V_prev, 0)\n",
    "\n",
    "        # rather than calculate the distribution for V_t, we'll compute V_{t-1} and save that\n",
    "        # and V_t can be computed on the next iteration, after drawing from the distributions for\n",
    "        V_dist = dists.Dirac(loc=V)\n",
    "\n",
    "        # all of these distributions are constant and independant\n",
    "        W = dists.Normal()\n",
    "\n",
    "        return dists.IndepProd(V_dist, W)\n",
    "\n",
    "    def PY(self, t, xp, x): # Distribution of Y_t given X_t=x (and possibly X_{t-1}=xp)\n",
    "        # we don't need xp: x contains (V_{t_1}, w_t, B_t, etc.)\n",
    "        V_prev, W = x.T\n",
    "\n",
    "        # data has to be aligned correctly...\n",
    "        mu = (\n",
    "            self.r[t]\n",
    "            - self.delta[t]\n",
    "            + V_prev * (self.eta_s - 0.5)\n",
    "        )\n",
    "        # R_{t+1} = mu + sqrt(v_t) z\n",
    "        # where z and w are N(0, 1) with correlation rho\n",
    "        # hence z|w ~ N(rho * w, (1 - rho^2))\n",
    "        # and so R|(w, v) ~ N(mu + sqrt(v) rho w, v_t (1 - rho^2))\n",
    "        # distributions package expect sigma, not sigma^2\n",
    "        sqv = np.sqrt(V_prev)\n",
    "        return dists.Normal(\n",
    "            loc=mu + sqv * self.rho * W, scale=sqv * np.sqrt(1 - self.rho**2)\n",
    "        )\n",
    "\n",
    "params_article = {\n",
    "    \"kappa\": 7.4 / 252,\n",
    "    \"theta\": 0.02,\n",
    "    \"sigma\": 0.4 / np.sqrt(252),\n",
    "    \"rho\": -0.82,\n",
    "    \"eta_s\": 3.25 / 252,\n",
    "}"
   ],
   "metadata": {
    "collapsed": false
   }
  },
  {
   "cell_type": "code",
   "execution_count": null,
   "outputs": [],
   "source": [
    "heston_model = HestonVol(r=r, delta=delta, **params_article)\n",
    "\n",
    "true_states, data = heston_model.simulate(100)\n",
    "\n",
    "plt.figure()\n",
    "plt.plot(data)\n",
    "plt.show()"
   ],
   "metadata": {
    "collapsed": false
   }
  },
  {
   "cell_type": "code",
   "execution_count": null,
   "outputs": [],
   "source": [
    "class SVJR(ssm.StateSpaceModel):\n",
    "    \"\"\"\n",
    "    Model with return jumps\n",
    "    \"\"\"\n",
    "\n",
    "    def PX0(self):\n",
    "        return\n",
    "\n",
    "    def PX(self, t, xp):\n",
    "        return\n",
    "\n",
    "    def PY(self, t, xp, x):\n",
    "        return"
   ],
   "metadata": {
    "collapsed": false
   }
  },
  {
   "cell_type": "code",
   "execution_count": null,
   "outputs": [],
   "source": [
    "class SVJV(ssm.StateSpaceModel):\n",
    "    \"\"\"\n",
    "    Model with variance jumps\n",
    "    \"\"\"\n",
    "\n",
    "    def PX0(self):\n",
    "        return\n",
    "\n",
    "    def PX(self, t, xp):\n",
    "        return\n",
    "\n",
    "    def PY(self, t, xp, x):\n",
    "        return"
   ],
   "metadata": {
    "collapsed": false
   }
  },
  {
   "cell_type": "code",
   "execution_count": null,
   "outputs": [],
   "source": [
    "class SVCJ(ssm.StateSpaceModel):\n",
    "    \"\"\"\n",
    "    Model with correlated return and variance jumps.\n",
    "    Parameters:\n",
    "    r: risk-free yield, data\n",
    "    delta: dividend yield, data\n",
    "    index: index level, data\n",
    "\n",
    "    kappa: speed of mean reversion\n",
    "    \"\"\"\n",
    "\n",
    "    default_params = {\n",
    "        \"kappa\": 1.0,\n",
    "        \"theta\": 0.0,\n",
    "        \"sigma\": 1.0,\n",
    "        \"rho\": -1.0,\n",
    "        \"eta_s\": 1.0,\n",
    "        \"lam\": 0.5,\n",
    "        \"mu_s\": 0.0,\n",
    "        \"sigma_s\": 1.0,\n",
    "        \"mu_v\": 0.0,\n",
    "        \"rho_j\": 0.0,\n",
    "    }\n",
    "\n",
    "    def __init__(self, *args, **kwargs):\n",
    "        super().__init__(*args, **kwargs)\n",
    "        self.mubar_s = (\n",
    "            np.exp(self.mu_s + self.sigma_s**2 / 2) / (1 - self.rho_j * self.mu_v) - 1\n",
    "        )\n",
    "\n",
    "    def PX0(self):\n",
    "        V_prev_dist = dists.Dirac(loc=self.theta)\n",
    "        w = dists.Normal()\n",
    "        B = dists.Binomial(n=1, p=self.lam)\n",
    "        # This gives an exponential distribution\n",
    "        Jv = dists.Gamma(a=1, b=self.mu_v)\n",
    "        Js_minus_rho_jv = dists.Normal(loc=self.mu_s, scale=self.sigma_s)\n",
    "\n",
    "        return dists.IndepProd(V_prev_dist, w, B, Jv, Js_minus_rho_jv)\n",
    "\n",
    "    def PX(self, t, xp):\n",
    "        # the hidden state is NOT (V_t, w_t, B_t, Jv_t, Js_t)!\n",
    "        # rather, it is           (V_{t-1}, ...)\n",
    "        (V_prev_prev, w_prev, B_prev, Jv_prev, Js_minus_rho_jv_prev) = xp.T\n",
    "\n",
    "        # Compute V_{t-1}\n",
    "        V_prev = (\n",
    "            V_prev_prev\n",
    "            + self.kappa * (self.theta - V_prev_prev)\n",
    "            + self.sigma * np.sqrt(V_prev_prev) * w_prev\n",
    "            + Jv_prev * B_prev\n",
    "        )\n",
    "        # keep it above zero\n",
    "        # if 2 kappa theta > sigma^2, then the *continous* process stays positive.\n",
    "        # but the discretized process can still end up negative.\n",
    "        V_prev = np.maximum(V_prev, 0)\n",
    "\n",
    "        # rather than calculate the distribution for V_t, we'll compute V_{t-1} and save that\n",
    "        # and V_t can be computed on the next iteration, after drawing from the distributions for\n",
    "        V_prev_dist = dists.Dirac(loc=V_prev)\n",
    "\n",
    "        # all of these distributions are constant and independant\n",
    "        w = dists.Normal()\n",
    "        B = dists.Binomial(n=1, p=self.lam)\n",
    "        # This gives an exponential distribution\n",
    "        Jv = dists.Gamma(a=1, b=self.mu_v)\n",
    "        Js_minus_rho_jv = dists.Normal(loc=self.mu_s, scale=self.sigma_s)\n",
    "\n",
    "        return dists.IndepProd(V_prev_dist, w, B, Jv, Js_minus_rho_jv)\n",
    "\n",
    "    def PY(self, t, xp, x):\n",
    "        # we don't need xp: x contains (V_{t_1}, w_t, B_t, etc.)\n",
    "        (V_prev, w, B, Jv, Js_minus_rho_jv) = x.T\n",
    "        Js = Js_minus_rho_jv + self.rho_j * Jv\n",
    "\n",
    "        # data has to be aligned correctly...\n",
    "        mu = (\n",
    "            self.r[t]\n",
    "            - self.delta[t]\n",
    "            - self.lam * self.mubar_s\n",
    "            + V_prev * (self.eta_s - 0.5)\n",
    "            + Js * B\n",
    "        )\n",
    "        # R_{t+1} = mu + sqrt(v_t) z\n",
    "        # where z and w are N(0, 1) with correlation rho\n",
    "        # hence z|w ~ N(rho * w, (1 - rho^2))\n",
    "        # and so R|(w, v) ~ N(mu + sqrt(v) rho w, v_t (1 - rho^2))\n",
    "        # distributions package expect sigma, not sigma^2\n",
    "        sqv = np.sqrt(V_prev)\n",
    "        return dists.Normal(\n",
    "            loc=mu + sqv * self.rho * w, scale=sqv * np.sqrt(1 - self.rho**2)\n",
    "        )"
   ],
   "metadata": {
    "collapsed": false
   }
  },
  {
   "cell_type": "code",
   "execution_count": null,
   "metadata": {},
   "outputs": [],
   "source": [
    "# now we'll try initializing a SVCJ, using the parameters obtained in the paper\n",
    "# based on data only from returns (Table A1)\n",
    "\n",
    "# they say \"parameters are annualized? what does this mean...\"\n",
    "# I think this means that in the original differential equation, one unit of time is equal to a year.\n",
    "# In the discretization, some parameters need to be scaled.\n",
    "\n",
    "# I'm also especially unsure about lambda. It's the probability for a Bernoulli,\n",
    "# which represents the discretization a Poisson point process with rate lambda...\n",
    "params_article = {\n",
    "    \"kappa\": 7.4 / 252,\n",
    "    \"theta\": 0.02,\n",
    "    \"sigma\": 0.4 / np.sqrt(252),\n",
    "    \"rho\": -0.82,\n",
    "    \"eta_s\": 3.25 / 252,\n",
    "    \"lam\": 0.8 / 252,\n",
    "    \"mu_s\": -0.02,\n",
    "    \"sigma_s\": 0.02 / np.sqrt(252),\n",
    "    \"mu_v\": 0.08 * 252,\n",
    "    \"rho_j\": -0.09,\n",
    "}"
   ]
  },
  {
   "cell_type": "code",
   "execution_count": null,
   "outputs": [],
   "source": [
    "SVCJ_a1 = SVCJ(r=r, delta=delta, **params_article)\n",
    "\n",
    "true_states, data = SVCJ_a1.simulate(100)\n",
    "\n",
    "plt.figure()\n",
    "plt.plot(data)\n",
    "plt.show()"
   ],
   "metadata": {
    "collapsed": false
   }
  },
  {
   "cell_type": "markdown",
   "metadata": {},
   "source": [
    "# Bootstrap filter"
   ]
  },
  {
   "cell_type": "code",
   "execution_count": null,
   "metadata": {},
   "outputs": [],
   "source": [
    "ssm.Bootstrap()"
   ]
  },
  {
   "cell_type": "markdown",
   "metadata": {},
   "source": [
    "# PMMH"
   ]
  },
  {
   "cell_type": "code",
   "execution_count": null,
   "metadata": {},
   "outputs": [],
   "source": [
    "mcmc.PMMH()"
   ]
  },
  {
   "cell_type": "markdown",
   "metadata": {},
   "source": [
    "# Orthogonal MCMC"
   ]
  },
  {
   "cell_type": "markdown",
   "metadata": {},
   "source": [
    "# SMC^2"
   ]
  },
  {
   "cell_type": "code",
   "execution_count": null,
   "metadata": {},
   "outputs": [],
   "source": [
    "ssp.SMC2()"
   ]
  }
 ],
 "metadata": {
  "kernelspec": {
   "display_name": "Python 3 (ipykernel)",
   "language": "python",
   "name": "python3"
  },
  "language_info": {
   "codemirror_mode": {
    "name": "ipython",
    "version": 3
   },
   "file_extension": ".py",
   "mimetype": "text/x-python",
   "name": "python",
   "nbconvert_exporter": "python",
   "pygments_lexer": "ipython3",
   "version": "3.10.7"
  }
 },
 "nbformat": 4,
 "nbformat_minor": 1
}
