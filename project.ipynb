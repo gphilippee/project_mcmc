{
 "cells": [
  {
   "cell_type": "code",
   "execution_count": null,
   "outputs": [],
   "source": [
    "import yfinance as yf\n",
    "import particles\n",
    "import matplotlib\n",
    "import numpy as np\n",
    "\n",
    "import particles\n",
    "from particles import distributions as dists\n",
    "from particles import state_space_models as ssm\n",
    "from particles import mcmc\n",
    "from particles import smc_samplers as ssp\n",
    "from particles.collectors import Moments"
   ],
   "metadata": {
    "collapsed": false
   }
  },
  {
   "cell_type": "code",
   "execution_count": 5,
   "outputs": [
    {
     "data": {
      "text/plain": "{'exchange': 'SNP',\n 'shortName': 'S&P 500',\n 'exchangeTimezoneName': 'America/New_York',\n 'exchangeTimezoneShortName': 'EST',\n 'isEsgPopulated': False,\n 'gmtOffSetMilliseconds': '-18000000',\n 'quoteType': 'INDEX',\n 'symbol': '^GSPC',\n 'messageBoardId': 'finmb_INDEXGSPC',\n 'market': 'us_market',\n 'previousClose': 3822.39,\n 'regularMarketOpen': 3815.11,\n 'twoHundredDayAverage': 4016.8584,\n 'trailingAnnualDividendYield': None,\n 'payoutRatio': None,\n 'volume24Hr': None,\n 'regularMarketDayHigh': 3845.8,\n 'navPrice': None,\n 'averageDailyVolume10Day': 4394980000,\n 'totalAssets': None,\n 'regularMarketPreviousClose': 3822.39,\n 'fiftyDayAverage': 3885.7617,\n 'trailingAnnualDividendRate': None,\n 'open': 3815.11,\n 'toCurrency': None,\n 'averageVolume10days': 4394980000,\n 'expireDate': None,\n 'yield': None,\n 'algorithm': None,\n 'dividendRate': None,\n 'exDividendDate': None,\n 'beta': None,\n 'circulatingSupply': None,\n 'startDate': None,\n 'regularMarketDayLow': 3797.01,\n 'priceHint': 2,\n 'currency': 'USD',\n 'regularMarketVolume': 1579126000,\n 'lastMarket': None,\n 'maxSupply': None,\n 'openInterest': None,\n 'marketCap': None,\n 'volumeAllCurrencies': None,\n 'strikePrice': None,\n 'averageVolume': 4464085555,\n 'priceToSalesTrailing12Months': None,\n 'dayLow': 3797.01,\n 'ask': 3865.22,\n 'ytdReturn': None,\n 'askSize': 0,\n 'volume': 1579126000,\n 'fiftyTwoWeekHigh': 4818.62,\n 'forwardPE': None,\n 'maxAge': 1,\n 'fromCurrency': None,\n 'fiveYearAvgDividendYield': None,\n 'fiftyTwoWeekLow': 3491.58,\n 'bid': 3819.34,\n 'tradeable': False,\n 'dividendYield': None,\n 'bidSize': 0,\n 'dayHigh': 3845.8,\n 'coinMarketCapLink': None,\n 'regularMarketPrice': 3844.82,\n 'preMarketPrice': None,\n 'logo_url': 'https://logo.clearbit.com/S&P.com',\n 'trailingPegRatio': None}"
     },
     "execution_count": 5,
     "metadata": {},
     "output_type": "execute_result"
    }
   ],
   "source": [
    "sp500 = yf.Ticker(\"^GSPC\")\n",
    "sp500.info"
   ],
   "metadata": {
    "collapsed": false
   }
  },
  {
   "cell_type": "code",
   "execution_count": 7,
   "outputs": [
    {
     "data": {
      "text/plain": "pandas.core.frame.DataFrame"
     },
     "execution_count": 7,
     "metadata": {},
     "output_type": "execute_result"
    }
   ],
   "source": [
    "period = \"2y\"\n",
    "\n",
    "df_sp500 = sp500.history(period=period)"
   ],
   "metadata": {
    "collapsed": false
   }
  },
  {
   "cell_type": "code",
   "execution_count": null,
   "outputs": [],
   "source": [
    "class StochVol(ssm.StateSpaceModel):\n",
    "    def PX0(self):  # Distribution of X_0\n",
    "        return dists.Normal(loc=self.mu, scale=self.sigma / np.sqrt(1. - self.rho**2))\n",
    "    def PX(self, t, xp):  # Distribution of X_t given X_{t-1}=xp (p=past)\n",
    "        return dists.Normal(loc=self.mu + self.rho * (xp - self.mu), scale=self.sigma)\n",
    "    def PY(self, t, xp, x):  # Distribution of Y_t given X_t=x (and possibly X_{t-1}=xp)\n",
    "        return dists.Normal(loc=0., scale=np.exp(x))\n",
    "\n",
    "stoch_vol_model = StochVol()"
   ],
   "metadata": {
    "collapsed": false
   }
  },
  {
   "cell_type": "code",
   "execution_count": null,
   "outputs": [],
   "source": [
    "class SVJR(ssm.StateSpaceModel):\n",
    "    \"\"\"\n",
    "    Model with return jumps\n",
    "    \"\"\"\n",
    "    def PX0(self):\n",
    "        return\n",
    "    def PX(self):\n",
    "        return\n",
    "    def PY(self):\n",
    "        return"
   ],
   "metadata": {
    "collapsed": false
   }
  },
  {
   "cell_type": "code",
   "execution_count": null,
   "outputs": [],
   "source": [
    "class SVJV(ssm.StateSpaceModel):\n",
    "    \"\"\"\n",
    "    Model with variance jumps\n",
    "    \"\"\"\n",
    "    def PX0(self):\n",
    "        return\n",
    "    def PX(self):\n",
    "        return\n",
    "    def PY(self):\n",
    "        return"
   ],
   "metadata": {
    "collapsed": false
   }
  },
  {
   "cell_type": "code",
   "execution_count": null,
   "outputs": [],
   "source": [
    "class SVCJ(ssm.StateSpaceModel):\n",
    "    \"\"\"\n",
    "    Model with correlated return and variance jumps\n",
    "    \"\"\"\n",
    "    def PX0(self):\n",
    "        return\n",
    "    def PX(self):\n",
    "        return\n",
    "    def PY(self):\n",
    "        return"
   ],
   "metadata": {
    "collapsed": false
   }
  },
  {
   "cell_type": "markdown",
   "source": [
    "# Bootstrap filter"
   ],
   "metadata": {
    "collapsed": false
   }
  },
  {
   "cell_type": "code",
   "execution_count": null,
   "outputs": [],
   "source": [
    "ssm.Bootstrap()"
   ],
   "metadata": {
    "collapsed": false
   }
  },
  {
   "cell_type": "markdown",
   "source": [
    "# PMMH"
   ],
   "metadata": {
    "collapsed": false
   }
  },
  {
   "cell_type": "code",
   "execution_count": null,
   "outputs": [],
   "source": [
    "mcmc.PMMH()"
   ],
   "metadata": {
    "collapsed": false
   }
  },
  {
   "cell_type": "markdown",
   "source": [
    "# Orthogonal MCMC"
   ],
   "metadata": {
    "collapsed": false
   }
  },
  {
   "cell_type": "markdown",
   "source": [
    "# SMC^2"
   ],
   "metadata": {
    "collapsed": false
   }
  },
  {
   "cell_type": "code",
   "execution_count": null,
   "outputs": [],
   "source": [
    "ssp.SMC2()"
   ],
   "metadata": {
    "collapsed": false
   }
  }
 ],
 "metadata": {
  "kernelspec": {
   "display_name": "Python 3",
   "language": "python",
   "name": "python3"
  },
  "language_info": {
   "codemirror_mode": {
    "name": "ipython",
    "version": 2
   },
   "file_extension": ".py",
   "mimetype": "text/x-python",
   "name": "python",
   "nbconvert_exporter": "python",
   "pygments_lexer": "ipython2",
   "version": "2.7.6"
  }
 },
 "nbformat": 4,
 "nbformat_minor": 0
}
